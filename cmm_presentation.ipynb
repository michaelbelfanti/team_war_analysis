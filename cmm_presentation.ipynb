{
 "cells": [
  {
   "cell_type": "code",
   "execution_count": 81,
   "metadata": {
    "collapsed": true
   },
   "outputs": [],
   "source": [
    "# Standard libraries\n",
    "\n",
    "import pandas as pd\n",
    "import matplotlib.pyplot as plt\n",
    "from sklearn import linear_model\n",
    "from sklearn.metrics import r2_score"
   ]
  },
  {
   "cell_type": "markdown",
   "metadata": {},
   "source": [
    "## What is WAR?\n",
    "\n",
    "From Baseball Reference: \"A single number that presents the number of wins the player added to the team above what a replacement player (think AAA or AAAA) would add.\"\n",
    "\n",
    "Scale for a single season: 8+ is MVP quality, 5+ is All-Star quality, 2+ is a starter and 0-2 is a bench player.\n",
    "\n",
    "TeamWAR is the sum of the WAR for the individual players on a team. According to BR, the conversion from TeamWAR to wins is\n",
    "<center> wins = TeamWAR + .294 * 162.</center>\n",
    "\n",
    "The first objective was to verify this formula for some recent seasons and see if the wins estimate could be improved by dividing TeamWAR into contributions from position players and pitchers separately. Only data from NL teams was used, since the designated hitter leads to TeamWAR values being higher for AL teams. \n",
    "\n",
    "All WAR data was obtained from BR. They have WAR data for individual players and team data going back...a very long time."
   ]
  },
  {
   "cell_type": "code",
   "execution_count": 82,
   "metadata": {
    "collapsed": false
   },
   "outputs": [
    {
     "data": {
      "text/html": [
       "<div>\n",
       "<table border=\"1\" class=\"dataframe\">\n",
       "  <thead>\n",
       "    <tr style=\"text-align: right;\">\n",
       "      <th></th>\n",
       "      <th>Team</th>\n",
       "      <th>Year</th>\n",
       "      <th>Wins</th>\n",
       "      <th>TeamWAR</th>\n",
       "      <th>AllP</th>\n",
       "      <th>Non-P</th>\n",
       "    </tr>\n",
       "  </thead>\n",
       "  <tbody>\n",
       "    <tr>\n",
       "      <th>80</th>\n",
       "      <td>ARI</td>\n",
       "      <td>2013.0</td>\n",
       "      <td>81.0</td>\n",
       "      <td>29.5</td>\n",
       "      <td>4.8</td>\n",
       "      <td>24.7</td>\n",
       "    </tr>\n",
       "    <tr>\n",
       "      <th>66</th>\n",
       "      <td>CHC</td>\n",
       "      <td>2012.0</td>\n",
       "      <td>61.0</td>\n",
       "      <td>16.6</td>\n",
       "      <td>5.4</td>\n",
       "      <td>11.2</td>\n",
       "    </tr>\n",
       "    <tr>\n",
       "      <th>62</th>\n",
       "      <td>STL</td>\n",
       "      <td>2011.0</td>\n",
       "      <td>90.0</td>\n",
       "      <td>37.0</td>\n",
       "      <td>9.6</td>\n",
       "      <td>27.4</td>\n",
       "    </tr>\n",
       "    <tr>\n",
       "      <th>34</th>\n",
       "      <td>CHC</td>\n",
       "      <td>2010.0</td>\n",
       "      <td>75.0</td>\n",
       "      <td>23.1</td>\n",
       "      <td>12.7</td>\n",
       "      <td>10.4</td>\n",
       "    </tr>\n",
       "    <tr>\n",
       "      <th>94</th>\n",
       "      <td>WSN</td>\n",
       "      <td>2013.0</td>\n",
       "      <td>86.0</td>\n",
       "      <td>31.1</td>\n",
       "      <td>14.6</td>\n",
       "      <td>16.5</td>\n",
       "    </tr>\n",
       "    <tr>\n",
       "      <th>33</th>\n",
       "      <td>ATL</td>\n",
       "      <td>2010.0</td>\n",
       "      <td>91.0</td>\n",
       "      <td>41.3</td>\n",
       "      <td>17.0</td>\n",
       "      <td>24.3</td>\n",
       "    </tr>\n",
       "    <tr>\n",
       "      <th>46</th>\n",
       "      <td>STL</td>\n",
       "      <td>2010.0</td>\n",
       "      <td>86.0</td>\n",
       "      <td>39.2</td>\n",
       "      <td>13.5</td>\n",
       "      <td>25.7</td>\n",
       "    </tr>\n",
       "    <tr>\n",
       "      <th>116</th>\n",
       "      <td>MIA</td>\n",
       "      <td>2015.0</td>\n",
       "      <td>71.0</td>\n",
       "      <td>25.0</td>\n",
       "      <td>6.2</td>\n",
       "      <td>18.8</td>\n",
       "    </tr>\n",
       "    <tr>\n",
       "      <th>107</th>\n",
       "      <td>SFG</td>\n",
       "      <td>2014.0</td>\n",
       "      <td>88.0</td>\n",
       "      <td>33.8</td>\n",
       "      <td>13.6</td>\n",
       "      <td>20.2</td>\n",
       "    </tr>\n",
       "    <tr>\n",
       "      <th>87</th>\n",
       "      <td>MIL</td>\n",
       "      <td>2013.0</td>\n",
       "      <td>74.0</td>\n",
       "      <td>24.6</td>\n",
       "      <td>4.4</td>\n",
       "      <td>20.2</td>\n",
       "    </tr>\n",
       "  </tbody>\n",
       "</table>\n",
       "</div>"
      ],
      "text/plain": [
       "    Team    Year  Wins  TeamWAR  AllP  Non-P\n",
       "80   ARI  2013.0  81.0     29.5   4.8   24.7\n",
       "66   CHC  2012.0  61.0     16.6   5.4   11.2\n",
       "62   STL  2011.0  90.0     37.0   9.6   27.4\n",
       "34   CHC  2010.0  75.0     23.1  12.7   10.4\n",
       "94   WSN  2013.0  86.0     31.1  14.6   16.5\n",
       "33   ATL  2010.0  91.0     41.3  17.0   24.3\n",
       "46   STL  2010.0  86.0     39.2  13.5   25.7\n",
       "116  MIA  2015.0  71.0     25.0   6.2   18.8\n",
       "107  SFG  2014.0  88.0     33.8  13.6   20.2\n",
       "87   MIL  2013.0  74.0     24.6   4.4   20.2"
      ]
     },
     "execution_count": 82,
     "metadata": {},
     "output_type": "execute_result"
    }
   ],
   "source": [
    "# Import data for NL 2008-2017 seasons and drop unused columns\n",
    "\n",
    "nl_2008_2017 = pd.read_csv('nl_2008_2017.csv')\n",
    "nl_2008_2017 = nl_2008_2017[['Team', 'Year', 'Wins', 'TeamWAR', 'AllP', 'Non-P']]\n",
    "nl_2008_2017.sample(10)"
   ]
  },
  {
   "cell_type": "code",
   "execution_count": 83,
   "metadata": {
    "collapsed": false
   },
   "outputs": [
    {
     "data": {
      "image/png": "[encoded data removed]",
      "text/plain": [
       "<matplotlib.figure.Figure at 0x280991c4208>"
      ]
     },
     "metadata": {},
     "output_type": "display_data"
    }
   ],
   "source": [
    "# Scatterplot of Wins vs TeamWAR\n",
    "\n",
    "team_war_values = nl_2008_2017['TeamWAR']\n",
    "wins_values = nl_2008_2017['Wins']\n",
    "\n",
    "plt.scatter(team_war_values, wins_values)\n",
    "plt.title('Wins vs. TeamWAR')\n",
    "plt.xlabel('TeamWAR')\n",
    "plt.ylabel('Wins')\n",
    "plt.show()"
   ]
  },
  {
   "cell_type": "code",
   "execution_count": 84,
   "metadata": {
    "collapsed": false
   },
   "outputs": [
    {
     "name": "stdout",
     "output_type": "stream",
     "text": [
      "Coefficient: 1.0053465398152321\n",
      "Intercept: 49.41905586256729\n"
     ]
    }
   ],
   "source": [
    "# Regression line\n",
    "X = pd.DataFrame(nl_2008_2017['TeamWAR'])\n",
    "y = nl_2008_2017['Wins']\n",
    "lm = linear_model.LinearRegression()\n",
    "lm.fit(X,y)\n",
    "coefficient = float(lm.coef_)\n",
    "intercept = float(lm.intercept_)\n",
    "print('Coefficient: ' + str(coefficient))\n",
    "print('Intercept: ' + str(intercept))"
   ]
  },
  {
   "cell_type": "markdown",
   "metadata": {},
   "source": [
    "The coefficient and intercept are similar to the standard formula from BR, where the coefficient was 1 and the intercept was 47.628. "
   ]
  },
  {
   "cell_type": "code",
   "execution_count": 85,
   "metadata": {
    "collapsed": true
   },
   "outputs": [],
   "source": [
    "# BR model for estimating wins\n",
    "\n",
    "def br_wins(team_war):\n",
    "    return team_war + .294 * 162"
   ]
  },
  {
   "cell_type": "code",
   "execution_count": 86,
   "metadata": {
    "collapsed": false
   },
   "outputs": [
    {
     "data": {
      "text/html": [
       "<div>\n",
       "<table border=\"1\" class=\"dataframe\">\n",
       "  <thead>\n",
       "    <tr style=\"text-align: right;\">\n",
       "      <th></th>\n",
       "      <th>Year</th>\n",
       "      <th>Team</th>\n",
       "      <th>Wins</th>\n",
       "      <th>RegWins</th>\n",
       "      <th>BRWins</th>\n",
       "    </tr>\n",
       "  </thead>\n",
       "  <tbody>\n",
       "    <tr>\n",
       "      <th>73</th>\n",
       "      <td>2012.0</td>\n",
       "      <td>NYM</td>\n",
       "      <td>74.0</td>\n",
       "      <td>73.346304</td>\n",
       "      <td>71.428</td>\n",
       "    </tr>\n",
       "    <tr>\n",
       "      <th>35</th>\n",
       "      <td>2010.0</td>\n",
       "      <td>CIN</td>\n",
       "      <td>91.0</td>\n",
       "      <td>90.839333</td>\n",
       "      <td>88.828</td>\n",
       "    </tr>\n",
       "    <tr>\n",
       "      <th>45</th>\n",
       "      <td>2010.0</td>\n",
       "      <td>SFG</td>\n",
       "      <td>92.0</td>\n",
       "      <td>92.950561</td>\n",
       "      <td>90.928</td>\n",
       "    </tr>\n",
       "    <tr>\n",
       "      <th>94</th>\n",
       "      <td>2013.0</td>\n",
       "      <td>WSN</td>\n",
       "      <td>86.0</td>\n",
       "      <td>80.685333</td>\n",
       "      <td>78.728</td>\n",
       "    </tr>\n",
       "    <tr>\n",
       "      <th>53</th>\n",
       "      <td>2011.0</td>\n",
       "      <td>FLA</td>\n",
       "      <td>72.0</td>\n",
       "      <td>76.663947</td>\n",
       "      <td>74.728</td>\n",
       "    </tr>\n",
       "  </tbody>\n",
       "</table>\n",
       "</div>"
      ],
      "text/plain": [
       "      Year Team  Wins    RegWins  BRWins\n",
       "73  2012.0  NYM  74.0  73.346304  71.428\n",
       "35  2010.0  CIN  91.0  90.839333  88.828\n",
       "45  2010.0  SFG  92.0  92.950561  90.928\n",
       "94  2013.0  WSN  86.0  80.685333  78.728\n",
       "53  2011.0  FLA  72.0  76.663947  74.728"
      ]
     },
     "execution_count": 86,
     "metadata": {},
     "output_type": "execute_result"
    }
   ],
   "source": [
    "# Data frame comparing wins and the two estimates\n",
    "\n",
    "years = nl_2008_2017['Year']\n",
    "teams = nl_2008_2017['Team']\n",
    "wins = nl_2008_2017['Wins']\n",
    "reg_wins_est = lm.predict(X)\n",
    "br_wins_est = [br_wins(team_war) for team_war in nl_2008_2017['TeamWAR']]\n",
    "wins_dic = {'Year' : years,\n",
    "           'Team' : teams,\n",
    "           'Wins' : wins,\n",
    "           'RegWins' : reg_wins_est,\n",
    "           'BRWins' : br_wins_est}\n",
    "wins_df = pd.DataFrame(data = wins_dic, columns = wins_dic.keys())\n",
    "wins_df.sample(5)"
   ]
  },
  {
   "cell_type": "code",
   "execution_count": 87,
   "metadata": {
    "collapsed": false
   },
   "outputs": [
    {
     "data": {
      "image/png": "[encoded data removed]",
      "text/plain": [
       "<matplotlib.figure.Figure at 0x2809a8bf0b8>"
      ]
     },
     "metadata": {},
     "output_type": "display_data"
    }
   ],
   "source": [
    "# Scatterplot and regression lines\n",
    "\n",
    "team_war_values = nl_2008_2017['TeamWAR']\n",
    "wins_values = nl_2008_2017['Wins']\n",
    "\n",
    "plt.scatter(team_war_values, wins_values)\n",
    "plt.plot(X, lm.predict(X), label = \"RegWinsEst\", color = \"red\")\n",
    "plt.plot(team_war_values, br_wins_est, label = \"BRWinsEst\", color = \"green\")\n",
    "plt.title('Wins vs. TeamWAR')\n",
    "plt.xlabel('TeamWAR')\n",
    "plt.ylabel('Wins')\n",
    "plt.legend()\n",
    "plt.show()"
   ]
  },
  {
   "cell_type": "code",
   "execution_count": 88,
   "metadata": {
    "collapsed": false
   },
   "outputs": [
    {
     "name": "stdout",
     "output_type": "stream",
     "text": [
      "Regression estimate R^2 score: 0.855388245827\n",
      "BR estimate R^2 score: 0.824675266214\n"
     ]
    }
   ],
   "source": [
    "# R^2 scores\n",
    "\n",
    "print('Regression estimate R^2 score: ' + str(r2_score(wins, reg_wins_est)))\n",
    "print('BR estimate R^2 score: ' + str(r2_score(wins, br_wins_est)))"
   ]
  },
  {
   "cell_type": "raw",
   "metadata": {},
   "source": [
    "The R^2 scores are not terrible. However, we might be able to do better by considering pitching and hitting separetely."
   ]
  },
  {
   "cell_type": "code",
   "execution_count": 89,
   "metadata": {
    "collapsed": false
   },
   "outputs": [
    {
     "data": {
      "text/html": [
       "<div>\n",
       "<table border=\"1\" class=\"dataframe\">\n",
       "  <thead>\n",
       "    <tr style=\"text-align: right;\">\n",
       "      <th></th>\n",
       "      <th>Year</th>\n",
       "      <th>Team</th>\n",
       "      <th>Wins</th>\n",
       "      <th>RegWins</th>\n",
       "      <th>RefRegWins</th>\n",
       "      <th>BRWins</th>\n",
       "    </tr>\n",
       "  </thead>\n",
       "  <tbody>\n",
       "    <tr>\n",
       "      <th>118</th>\n",
       "      <td>2015.0</td>\n",
       "      <td>NYM</td>\n",
       "      <td>90.0</td>\n",
       "      <td>87.320620</td>\n",
       "      <td>87.525595</td>\n",
       "      <td>85.328</td>\n",
       "    </tr>\n",
       "    <tr>\n",
       "      <th>71</th>\n",
       "      <td>2012.0</td>\n",
       "      <td>MIA</td>\n",
       "      <td>69.0</td>\n",
       "      <td>70.732403</td>\n",
       "      <td>71.191206</td>\n",
       "      <td>68.828</td>\n",
       "    </tr>\n",
       "    <tr>\n",
       "      <th>105</th>\n",
       "      <td>2014.0</td>\n",
       "      <td>PIT</td>\n",
       "      <td>88.0</td>\n",
       "      <td>88.728106</td>\n",
       "      <td>88.323680</td>\n",
       "      <td>86.728</td>\n",
       "    </tr>\n",
       "    <tr>\n",
       "      <th>8</th>\n",
       "      <td>2008.0</td>\n",
       "      <td>MIL</td>\n",
       "      <td>90.0</td>\n",
       "      <td>91.040403</td>\n",
       "      <td>90.870694</td>\n",
       "      <td>89.028</td>\n",
       "    </tr>\n",
       "    <tr>\n",
       "      <th>130</th>\n",
       "      <td>2016.0</td>\n",
       "      <td>LAD</td>\n",
       "      <td>91.0</td>\n",
       "      <td>89.230779</td>\n",
       "      <td>89.230233</td>\n",
       "      <td>87.228</td>\n",
       "    </tr>\n",
       "  </tbody>\n",
       "</table>\n",
       "</div>"
      ],
      "text/plain": [
       "       Year Team  Wins    RegWins  RefRegWins  BRWins\n",
       "118  2015.0  NYM  90.0  87.320620   87.525595  85.328\n",
       "71   2012.0  MIA  69.0  70.732403   71.191206  68.828\n",
       "105  2014.0  PIT  88.0  88.728106   88.323680  86.728\n",
       "8    2008.0  MIL  90.0  91.040403   90.870694  89.028\n",
       "130  2016.0  LAD  91.0  89.230779   89.230233  87.228"
      ]
     },
     "execution_count": 89,
     "metadata": {},
     "output_type": "execute_result"
    }
   ],
   "source": [
    "# Separate pitching and hitting.\n",
    "\n",
    "X_ref = nl_2008_2017.filter(['AllP', 'Non-P'], axis = 1)\n",
    "y = nl_2008_2017['Wins']\n",
    "lm.fit(X_ref,y)\n",
    "refined_prediction = list(lm.predict(X_ref))\n",
    "wins_df.insert(loc = 4, column = 'RefRegWins', value = refined_prediction)\n",
    "wins_df.sample(5)"
   ]
  },
  {
   "cell_type": "code",
   "execution_count": 90,
   "metadata": {
    "collapsed": false
   },
   "outputs": [
    {
     "name": "stdout",
     "output_type": "stream",
     "text": [
      "Coefficients: [ 1.03221884  0.97644113]\n",
      "Intercept: 49.5982102358\n",
      "Regression estimate R^2 score:\n",
      "0.855976953872\n"
     ]
    }
   ],
   "source": [
    "# Check the refined score\n",
    "\n",
    "print('Coefficients: ' + str(lm.coef_))\n",
    "print('Intercept: ' + str(lm.intercept_))\n",
    "print('Regression estimate R^2 score:')\n",
    "print(r2_score(wins, refined_prediction))"
   ]
  },
  {
   "cell_type": "markdown",
   "metadata": {},
   "source": [
    "The score is not significantly better than the previous regression line. This suggests that the contributions from hitters and pitchers to wins is roughly the same for this period. We can also see this in the coefficients, which are both approximately equal to 1. It would be interesting to see if that has always been true, or if the eras which are sterotypically associated with dominant pitching or hitting have different trends. "
   ]
  }
 ],
 "metadata": {
  "kernelspec": {
   "display_name": "Python 3",
   "language": "python",
   "name": "python3"
  },
  "language_info": {
   "codemirror_mode": {
    "name": "ipython",
    "version": 3
   },
   "file_extension": ".py",
   "mimetype": "text/x-python",
   "name": "python",
   "nbconvert_exporter": "python",
   "pygments_lexer": "ipython3",
   "version": "3.6.0"
  }
 },
 "nbformat": 4,
 "nbformat_minor": 2
}
