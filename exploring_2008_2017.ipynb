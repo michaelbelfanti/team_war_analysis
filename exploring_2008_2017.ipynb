{
 "cells": [
  {
   "cell_type": "code",
   "execution_count": 44,
   "metadata": {
    "collapsed": true
   },
   "outputs": [],
   "source": [
    "# Standard modules\n",
    "\n",
    "import pandas as pd\n",
    "import matplotlib.pyplot as plt\n",
    "from sklearn import linear_model\n",
    "from sklearn.metrics import r2_score"
   ]
  },
  {
   "cell_type": "code",
   "execution_count": 45,
   "metadata": {
    "collapsed": false
   },
   "outputs": [
    {
     "data": {
      "text/plain": [
       "(155, 19)"
      ]
     },
     "execution_count": 45,
     "metadata": {},
     "output_type": "execute_result"
    }
   ],
   "source": [
    "# Import data for NL 2008-2017 seasons\n",
    "\n",
    "nl_2008_2017 = pd.read_csv('nl_2008_2017.csv')\n",
    "nl_2008_2017.shape"
   ]
  },
  {
   "cell_type": "code",
   "execution_count": 46,
   "metadata": {
    "collapsed": false
   },
   "outputs": [
    {
     "data": {
      "text/html": [
       "<div>\n",
       "<table border=\"1\" class=\"dataframe\">\n",
       "  <thead>\n",
       "    <tr style=\"text-align: right;\">\n",
       "      <th></th>\n",
       "      <th>Team</th>\n",
       "      <th>Year</th>\n",
       "      <th>Wins</th>\n",
       "      <th>TeamWAR</th>\n",
       "      <th>AllP</th>\n",
       "      <th>SP</th>\n",
       "      <th>RP</th>\n",
       "      <th>Non-P</th>\n",
       "      <th>C</th>\n",
       "      <th>1B</th>\n",
       "      <th>2B</th>\n",
       "      <th>3B</th>\n",
       "      <th>SS</th>\n",
       "      <th>LF</th>\n",
       "      <th>CF</th>\n",
       "      <th>RF</th>\n",
       "      <th>OF (All)</th>\n",
       "      <th>DH</th>\n",
       "      <th>PH</th>\n",
       "    </tr>\n",
       "  </thead>\n",
       "  <tbody>\n",
       "    <tr>\n",
       "      <th>0</th>\n",
       "      <td>ARI</td>\n",
       "      <td>2008.0</td>\n",
       "      <td>82.0</td>\n",
       "      <td>30.1</td>\n",
       "      <td>22.7</td>\n",
       "      <td>18.1</td>\n",
       "      <td>5.0</td>\n",
       "      <td>7.4</td>\n",
       "      <td>1.2</td>\n",
       "      <td>0.2</td>\n",
       "      <td>2.1</td>\n",
       "      <td>0.7</td>\n",
       "      <td>3.2</td>\n",
       "      <td>-0.6</td>\n",
       "      <td>1.4</td>\n",
       "      <td>0.0</td>\n",
       "      <td>0.8</td>\n",
       "      <td>0.0</td>\n",
       "      <td>-0.8</td>\n",
       "    </tr>\n",
       "    <tr>\n",
       "      <th>1</th>\n",
       "      <td>ATL</td>\n",
       "      <td>2008.0</td>\n",
       "      <td>72.0</td>\n",
       "      <td>28.4</td>\n",
       "      <td>4.3</td>\n",
       "      <td>4.4</td>\n",
       "      <td>-0.1</td>\n",
       "      <td>24.1</td>\n",
       "      <td>4.1</td>\n",
       "      <td>4.1</td>\n",
       "      <td>2.6</td>\n",
       "      <td>7.6</td>\n",
       "      <td>3.3</td>\n",
       "      <td>0.3</td>\n",
       "      <td>2.2</td>\n",
       "      <td>-2.0</td>\n",
       "      <td>0.5</td>\n",
       "      <td>0.2</td>\n",
       "      <td>1.7</td>\n",
       "    </tr>\n",
       "    <tr>\n",
       "      <th>2</th>\n",
       "      <td>CHC</td>\n",
       "      <td>2008.0</td>\n",
       "      <td>97.0</td>\n",
       "      <td>49.0</td>\n",
       "      <td>29.1</td>\n",
       "      <td>22.9</td>\n",
       "      <td>5.6</td>\n",
       "      <td>19.9</td>\n",
       "      <td>2.8</td>\n",
       "      <td>1.9</td>\n",
       "      <td>3.3</td>\n",
       "      <td>3.0</td>\n",
       "      <td>2.2</td>\n",
       "      <td>2.4</td>\n",
       "      <td>1.6</td>\n",
       "      <td>0.9</td>\n",
       "      <td>4.9</td>\n",
       "      <td>0.1</td>\n",
       "      <td>1.7</td>\n",
       "    </tr>\n",
       "    <tr>\n",
       "      <th>3</th>\n",
       "      <td>CIN</td>\n",
       "      <td>2008.0</td>\n",
       "      <td>74.0</td>\n",
       "      <td>21.0</td>\n",
       "      <td>12.0</td>\n",
       "      <td>6.8</td>\n",
       "      <td>6.1</td>\n",
       "      <td>9.0</td>\n",
       "      <td>0.3</td>\n",
       "      <td>2.7</td>\n",
       "      <td>2.8</td>\n",
       "      <td>0.4</td>\n",
       "      <td>-1.1</td>\n",
       "      <td>2.6</td>\n",
       "      <td>0.5</td>\n",
       "      <td>0.6</td>\n",
       "      <td>3.7</td>\n",
       "      <td>0.0</td>\n",
       "      <td>0.2</td>\n",
       "    </tr>\n",
       "    <tr>\n",
       "      <th>4</th>\n",
       "      <td>COL</td>\n",
       "      <td>2008.0</td>\n",
       "      <td>74.0</td>\n",
       "      <td>26.6</td>\n",
       "      <td>13.0</td>\n",
       "      <td>8.2</td>\n",
       "      <td>6.5</td>\n",
       "      <td>13.6</td>\n",
       "      <td>2.4</td>\n",
       "      <td>1.0</td>\n",
       "      <td>1.7</td>\n",
       "      <td>1.2</td>\n",
       "      <td>1.8</td>\n",
       "      <td>5.8</td>\n",
       "      <td>-0.4</td>\n",
       "      <td>-0.2</td>\n",
       "      <td>5.2</td>\n",
       "      <td>0.0</td>\n",
       "      <td>0.3</td>\n",
       "    </tr>\n",
       "  </tbody>\n",
       "</table>\n",
       "</div>"
      ],
      "text/plain": [
       "  Team    Year  Wins  TeamWAR  AllP    SP   RP  Non-P    C   1B   2B   3B  \\\n",
       "0  ARI  2008.0  82.0     30.1  22.7  18.1  5.0    7.4  1.2  0.2  2.1  0.7   \n",
       "1  ATL  2008.0  72.0     28.4   4.3   4.4 -0.1   24.1  4.1  4.1  2.6  7.6   \n",
       "2  CHC  2008.0  97.0     49.0  29.1  22.9  5.6   19.9  2.8  1.9  3.3  3.0   \n",
       "3  CIN  2008.0  74.0     21.0  12.0   6.8  6.1    9.0  0.3  2.7  2.8  0.4   \n",
       "4  COL  2008.0  74.0     26.6  13.0   8.2  6.5   13.6  2.4  1.0  1.7  1.2   \n",
       "\n",
       "    SS   LF   CF   RF  OF (All)   DH   PH  \n",
       "0  3.2 -0.6  1.4  0.0       0.8  0.0 -0.8  \n",
       "1  3.3  0.3  2.2 -2.0       0.5  0.2  1.7  \n",
       "2  2.2  2.4  1.6  0.9       4.9  0.1  1.7  \n",
       "3 -1.1  2.6  0.5  0.6       3.7  0.0  0.2  \n",
       "4  1.8  5.8 -0.4 -0.2       5.2  0.0  0.3  "
      ]
     },
     "execution_count": 46,
     "metadata": {},
     "output_type": "execute_result"
    }
   ],
   "source": [
    "nl_2008_2017.head()"
   ]
  },
  {
   "cell_type": "code",
   "execution_count": 47,
   "metadata": {
    "collapsed": false
   },
   "outputs": [],
   "source": [
    "# If we want to compare all these seasons, we should determine if TeamWAR and Wins have similar statistics across seasons.\n",
    "# Here we set the columns for the summary df.\n",
    "\n",
    "mean_wins = []\n",
    "med_wins = []\n",
    "std_wins = []\n",
    "mean_team_war = []\n",
    "med_team_war = []\n",
    "std_team_war = []\n",
    "for season in range(2008,2018):\n",
    "    season_filter = nl_2008_2017['Year'] == season\n",
    "    df = nl_2008_2017[season_filter].describe()\n",
    "    mean_wins += [df['Wins']['mean']]\n",
    "    med_wins += [df['Wins']['50%']]\n",
    "    std_wins += [df['Wins']['std']]\n",
    "    mean_team_war += [df['TeamWAR']['mean']]\n",
    "    med_team_war += [df['TeamWAR']['50%']]\n",
    "    std_team_war += [df['TeamWAR']['std']]\n",
    "    \n",
    "years = [i for i in range(2008,2018)]"
   ]
  },
  {
   "cell_type": "code",
   "execution_count": 48,
   "metadata": {
    "collapsed": false
   },
   "outputs": [
    {
     "data": {
      "text/html": [
       "<div>\n",
       "<table border=\"1\" class=\"dataframe\">\n",
       "  <thead>\n",
       "    <tr style=\"text-align: right;\">\n",
       "      <th></th>\n",
       "      <th>Year</th>\n",
       "      <th>MeanWins</th>\n",
       "      <th>MedWins</th>\n",
       "      <th>SDWins</th>\n",
       "      <th>MeanTeamWar</th>\n",
       "      <th>MedTeamWar</th>\n",
       "      <th>SDTeamWar</th>\n",
       "    </tr>\n",
       "  </thead>\n",
       "  <tbody>\n",
       "    <tr>\n",
       "      <th>0</th>\n",
       "      <td>2008</td>\n",
       "      <td>79.437500</td>\n",
       "      <td>83.0</td>\n",
       "      <td>11.002841</td>\n",
       "      <td>29.775000</td>\n",
       "      <td>28.5</td>\n",
       "      <td>10.537267</td>\n",
       "    </tr>\n",
       "    <tr>\n",
       "      <th>1</th>\n",
       "      <td>2009</td>\n",
       "      <td>80.187500</td>\n",
       "      <td>81.5</td>\n",
       "      <td>11.094856</td>\n",
       "      <td>30.325000</td>\n",
       "      <td>29.5</td>\n",
       "      <td>10.402724</td>\n",
       "    </tr>\n",
       "    <tr>\n",
       "      <th>2</th>\n",
       "      <td>2010</td>\n",
       "      <td>80.500000</td>\n",
       "      <td>80.0</td>\n",
       "      <td>10.776518</td>\n",
       "      <td>29.831250</td>\n",
       "      <td>30.2</td>\n",
       "      <td>11.717151</td>\n",
       "    </tr>\n",
       "    <tr>\n",
       "      <th>3</th>\n",
       "      <td>2011</td>\n",
       "      <td>80.625000</td>\n",
       "      <td>79.5</td>\n",
       "      <td>11.763645</td>\n",
       "      <td>30.231250</td>\n",
       "      <td>29.4</td>\n",
       "      <td>9.133361</td>\n",
       "    </tr>\n",
       "    <tr>\n",
       "      <th>4</th>\n",
       "      <td>2012</td>\n",
       "      <td>80.000000</td>\n",
       "      <td>81.0</td>\n",
       "      <td>12.992305</td>\n",
       "      <td>29.950000</td>\n",
       "      <td>29.8</td>\n",
       "      <td>9.694603</td>\n",
       "    </tr>\n",
       "    <tr>\n",
       "      <th>5</th>\n",
       "      <td>2013</td>\n",
       "      <td>80.733333</td>\n",
       "      <td>76.0</td>\n",
       "      <td>11.093542</td>\n",
       "      <td>31.433333</td>\n",
       "      <td>29.5</td>\n",
       "      <td>9.817817</td>\n",
       "    </tr>\n",
       "    <tr>\n",
       "      <th>6</th>\n",
       "      <td>2014</td>\n",
       "      <td>80.133333</td>\n",
       "      <td>79.0</td>\n",
       "      <td>9.523405</td>\n",
       "      <td>31.213333</td>\n",
       "      <td>29.3</td>\n",
       "      <td>8.166733</td>\n",
       "    </tr>\n",
       "    <tr>\n",
       "      <th>7</th>\n",
       "      <td>2015</td>\n",
       "      <td>79.866667</td>\n",
       "      <td>79.0</td>\n",
       "      <td>13.097801</td>\n",
       "      <td>31.140000</td>\n",
       "      <td>35.3</td>\n",
       "      <td>11.470073</td>\n",
       "    </tr>\n",
       "    <tr>\n",
       "      <th>8</th>\n",
       "      <td>2016</td>\n",
       "      <td>79.866667</td>\n",
       "      <td>78.0</td>\n",
       "      <td>11.089678</td>\n",
       "      <td>31.100000</td>\n",
       "      <td>29.9</td>\n",
       "      <td>12.365852</td>\n",
       "    </tr>\n",
       "    <tr>\n",
       "      <th>9</th>\n",
       "      <td>2017</td>\n",
       "      <td>80.333333</td>\n",
       "      <td>77.0</td>\n",
       "      <td>12.378938</td>\n",
       "      <td>31.040000</td>\n",
       "      <td>26.7</td>\n",
       "      <td>11.945041</td>\n",
       "    </tr>\n",
       "  </tbody>\n",
       "</table>\n",
       "</div>"
      ],
      "text/plain": [
       "   Year   MeanWins  MedWins     SDWins  MeanTeamWar  MedTeamWar  SDTeamWar\n",
       "0  2008  79.437500     83.0  11.002841    29.775000        28.5  10.537267\n",
       "1  2009  80.187500     81.5  11.094856    30.325000        29.5  10.402724\n",
       "2  2010  80.500000     80.0  10.776518    29.831250        30.2  11.717151\n",
       "3  2011  80.625000     79.5  11.763645    30.231250        29.4   9.133361\n",
       "4  2012  80.000000     81.0  12.992305    29.950000        29.8   9.694603\n",
       "5  2013  80.733333     76.0  11.093542    31.433333        29.5   9.817817\n",
       "6  2014  80.133333     79.0   9.523405    31.213333        29.3   8.166733\n",
       "7  2015  79.866667     79.0  13.097801    31.140000        35.3  11.470073\n",
       "8  2016  79.866667     78.0  11.089678    31.100000        29.9  12.365852\n",
       "9  2017  80.333333     77.0  12.378938    31.040000        26.7  11.945041"
      ]
     },
     "execution_count": 48,
     "metadata": {},
     "output_type": "execute_result"
    }
   ],
   "source": [
    "# Making the summary df\n",
    "\n",
    "summary_dic = {'Year' : years,\n",
    "               'MeanWins' : mean_wins,\n",
    "              'MedWins' : med_wins,\n",
    "              'SDWins' : std_wins,\n",
    "              'MeanTeamWar' : mean_team_war,\n",
    "              'MedTeamWar' : med_team_war,\n",
    "              'SDTeamWar' : std_team_war}\n",
    "summary_2008_2017 = pd.DataFrame(data = summary_dic, columns = summary_dic.keys())\n",
    "summary_2008_2017"
   ]
  },
  {
   "cell_type": "markdown",
   "metadata": {},
   "source": [
    "How can we decide if these values are consistent enough for comparison? At a glance, 2013 MedWins and 2015 MedTeamWar appear like outliers."
   ]
  },
  {
   "cell_type": "markdown",
   "metadata": {},
   "source": [
    "According to Baseball Reference, the standard conversion for Team WAR to wins is \n",
    "<center>wins = Team WAR + .294 x 162.</center>\n",
    "This has the advantage that is can be used at any point in the season by replacing 162 with games played. We will start by doing a linear regression with the data from NL 2017 and compare the results. Note that .294 x 162 = 47.628.\n",
    "\n",
    "\n"
   ]
  },
  {
   "cell_type": "code",
   "execution_count": 49,
   "metadata": {
    "collapsed": false
   },
   "outputs": [
    {
     "data": {
      "image/png": "[encoded data removed]",
      "text/plain": [
       "<matplotlib.figure.Figure at 0x1dacb875da0>"
      ]
     },
     "metadata": {},
     "output_type": "display_data"
    }
   ],
   "source": [
    "# Scatterplot of Wins vs TeamWAR\n",
    "\n",
    "team_war_values = nl_2008_2017['TeamWAR']\n",
    "wins_values = nl_2008_2017['Wins']\n",
    "\n",
    "plt.scatter(team_war_values, wins_values)\n",
    "plt.title('Wins vs. TeamWAR')\n",
    "plt.xlabel('TeamWAR')\n",
    "plt.ylabel('Wins')\n",
    "plt.show()"
   ]
  },
  {
   "cell_type": "code",
   "execution_count": 50,
   "metadata": {
    "collapsed": false
   },
   "outputs": [
    {
     "name": "stdout",
     "output_type": "stream",
     "text": [
      "1.0053465398152321\n",
      "49.41905586256729\n"
     ]
    }
   ],
   "source": [
    "# Regression line\n",
    "X = pd.DataFrame(nl_2008_2017['TeamWAR'])\n",
    "y = nl_2008_2017['Wins']\n",
    "lm = linear_model.LinearRegression()\n",
    "lm.fit(X,y)\n",
    "coefficient = float(lm.coef_)\n",
    "intercept = float(lm.intercept_)\n",
    "print(coefficient)\n",
    "print(intercept)"
   ]
  },
  {
   "cell_type": "markdown",
   "metadata": {},
   "source": [
    "The coefficient and intercept are similar to the standard formula from BR."
   ]
  },
  {
   "cell_type": "code",
   "execution_count": 51,
   "metadata": {
    "collapsed": true
   },
   "outputs": [],
   "source": [
    "# BR model for estimating wins\n",
    "\n",
    "def br_wins(team_war):\n",
    "    return team_war + .294 * 162"
   ]
  },
  {
   "cell_type": "code",
   "execution_count": 52,
   "metadata": {
    "collapsed": false
   },
   "outputs": [
    {
     "data": {
      "text/html": [
       "<div>\n",
       "<table border=\"1\" class=\"dataframe\">\n",
       "  <thead>\n",
       "    <tr style=\"text-align: right;\">\n",
       "      <th></th>\n",
       "      <th>Year</th>\n",
       "      <th>Team</th>\n",
       "      <th>Wins</th>\n",
       "      <th>RegWins</th>\n",
       "      <th>BRWins</th>\n",
       "    </tr>\n",
       "  </thead>\n",
       "  <tbody>\n",
       "    <tr>\n",
       "      <th>0</th>\n",
       "      <td>2008.0</td>\n",
       "      <td>ARI</td>\n",
       "      <td>82.0</td>\n",
       "      <td>79.679987</td>\n",
       "      <td>77.728</td>\n",
       "    </tr>\n",
       "    <tr>\n",
       "      <th>1</th>\n",
       "      <td>2008.0</td>\n",
       "      <td>ATL</td>\n",
       "      <td>72.0</td>\n",
       "      <td>77.970898</td>\n",
       "      <td>76.028</td>\n",
       "    </tr>\n",
       "    <tr>\n",
       "      <th>2</th>\n",
       "      <td>2008.0</td>\n",
       "      <td>CHC</td>\n",
       "      <td>97.0</td>\n",
       "      <td>98.681036</td>\n",
       "      <td>96.628</td>\n",
       "    </tr>\n",
       "    <tr>\n",
       "      <th>3</th>\n",
       "      <td>2008.0</td>\n",
       "      <td>CIN</td>\n",
       "      <td>74.0</td>\n",
       "      <td>70.531333</td>\n",
       "      <td>68.628</td>\n",
       "    </tr>\n",
       "    <tr>\n",
       "      <th>4</th>\n",
       "      <td>2008.0</td>\n",
       "      <td>COL</td>\n",
       "      <td>74.0</td>\n",
       "      <td>76.161274</td>\n",
       "      <td>74.228</td>\n",
       "    </tr>\n",
       "  </tbody>\n",
       "</table>\n",
       "</div>"
      ],
      "text/plain": [
       "     Year Team  Wins    RegWins  BRWins\n",
       "0  2008.0  ARI  82.0  79.679987  77.728\n",
       "1  2008.0  ATL  72.0  77.970898  76.028\n",
       "2  2008.0  CHC  97.0  98.681036  96.628\n",
       "3  2008.0  CIN  74.0  70.531333  68.628\n",
       "4  2008.0  COL  74.0  76.161274  74.228"
      ]
     },
     "execution_count": 52,
     "metadata": {},
     "output_type": "execute_result"
    }
   ],
   "source": [
    "# Data frame comparing wins and the two estimates\n",
    "years = nl_2008_2017['Year']\n",
    "teams = nl_2008_2017['Team']\n",
    "wins = nl_2008_2017['Wins']\n",
    "reg_wins_est = lm.predict(X)\n",
    "br_wins_est = [br_wins(team_war) for team_war in nl_2008_2017['TeamWAR']]\n",
    "wins_dic = {'Year' : years,\n",
    "           'Team' : teams,\n",
    "           'Wins' : wins,\n",
    "           'RegWins' : reg_wins_est,\n",
    "           'BRWins' : br_wins_est}\n",
    "wins_df = pd.DataFrame(data = wins_dic, columns = wins_dic.keys())\n",
    "wins_df.head()"
   ]
  },
  {
   "cell_type": "code",
   "execution_count": 53,
   "metadata": {
    "collapsed": false
   },
   "outputs": [
    {
     "name": "stdout",
     "output_type": "stream",
     "text": [
      "Regression estimate R^2 score:\n",
      "0.855388245827\n",
      "BR estimate R^2 score:\n",
      "0.824675266214\n"
     ]
    }
   ],
   "source": [
    "# R^2 scores\n",
    "\n",
    "print('Regression estimate R^2 score:')\n",
    "print(r2_score(wins, reg_wins_est))\n",
    "print('BR estimate R^2 score:')\n",
    "print(r2_score(wins, br_wins_est))"
   ]
  },
  {
   "cell_type": "markdown",
   "metadata": {},
   "source": [
    "The R^2 scores are not terrible. However, we might be able to do better by dividing pitching and hitting."
   ]
  },
  {
   "cell_type": "code",
   "execution_count": 54,
   "metadata": {
    "collapsed": false
   },
   "outputs": [
    {
     "data": {
      "text/html": [
       "<div>\n",
       "<table border=\"1\" class=\"dataframe\">\n",
       "  <thead>\n",
       "    <tr style=\"text-align: right;\">\n",
       "      <th></th>\n",
       "      <th>Year</th>\n",
       "      <th>Team</th>\n",
       "      <th>Wins</th>\n",
       "      <th>RegWins</th>\n",
       "      <th>RefRegWins</th>\n",
       "      <th>BRWins</th>\n",
       "    </tr>\n",
       "  </thead>\n",
       "  <tbody>\n",
       "    <tr>\n",
       "      <th>0</th>\n",
       "      <td>2008.0</td>\n",
       "      <td>ARI</td>\n",
       "      <td>82.0</td>\n",
       "      <td>79.679987</td>\n",
       "      <td>80.255242</td>\n",
       "      <td>77.728</td>\n",
       "    </tr>\n",
       "    <tr>\n",
       "      <th>1</th>\n",
       "      <td>2008.0</td>\n",
       "      <td>ATL</td>\n",
       "      <td>72.0</td>\n",
       "      <td>77.970898</td>\n",
       "      <td>77.568982</td>\n",
       "      <td>76.028</td>\n",
       "    </tr>\n",
       "    <tr>\n",
       "      <th>2</th>\n",
       "      <td>2008.0</td>\n",
       "      <td>CHC</td>\n",
       "      <td>97.0</td>\n",
       "      <td>98.681036</td>\n",
       "      <td>99.066957</td>\n",
       "      <td>96.628</td>\n",
       "    </tr>\n",
       "    <tr>\n",
       "      <th>3</th>\n",
       "      <td>2008.0</td>\n",
       "      <td>CIN</td>\n",
       "      <td>74.0</td>\n",
       "      <td>70.531333</td>\n",
       "      <td>70.772806</td>\n",
       "      <td>68.628</td>\n",
       "    </tr>\n",
       "    <tr>\n",
       "      <th>4</th>\n",
       "      <td>2008.0</td>\n",
       "      <td>COL</td>\n",
       "      <td>74.0</td>\n",
       "      <td>76.161274</td>\n",
       "      <td>76.296654</td>\n",
       "      <td>74.228</td>\n",
       "    </tr>\n",
       "  </tbody>\n",
       "</table>\n",
       "</div>"
      ],
      "text/plain": [
       "     Year Team  Wins    RegWins  RefRegWins  BRWins\n",
       "0  2008.0  ARI  82.0  79.679987   80.255242  77.728\n",
       "1  2008.0  ATL  72.0  77.970898   77.568982  76.028\n",
       "2  2008.0  CHC  97.0  98.681036   99.066957  96.628\n",
       "3  2008.0  CIN  74.0  70.531333   70.772806  68.628\n",
       "4  2008.0  COL  74.0  76.161274   76.296654  74.228"
      ]
     },
     "execution_count": 54,
     "metadata": {},
     "output_type": "execute_result"
    }
   ],
   "source": [
    "# Separate pitching and hitting.\n",
    "\n",
    "X_ref = nl_2008_2017.filter(['AllP', 'Non-P'], axis = 1)\n",
    "y = nl_2008_2017['Wins']\n",
    "lm.fit(X_ref,y)\n",
    "refined_prediction = list(lm.predict(X_ref))\n",
    "wins_df.insert(loc = 4, column = 'RefRegWins', value = refined_prediction)\n",
    "wins_df.head()"
   ]
  },
  {
   "cell_type": "code",
   "execution_count": 55,
   "metadata": {
    "collapsed": false
   },
   "outputs": [
    {
     "name": "stdout",
     "output_type": "stream",
     "text": [
      "Regression estimate R^2 score:\n",
      "0.855976953872\n"
     ]
    }
   ],
   "source": [
    "# Check the refined score\n",
    "\n",
    "print('Regression estimate R^2 score:')\n",
    "print(r2_score(wins, refined_prediction))"
   ]
  },
  {
   "cell_type": "markdown",
   "metadata": {},
   "source": [
    "There is not a siginificant difference between the refined and un-refined R^2 score. This may suggest that pitching and hitting roughly contribute equally to wins."
   ]
  }
 ],
 "metadata": {
  "kernelspec": {
   "display_name": "Python 3",
   "language": "python",
   "name": "python3"
  },
  "language_info": {
   "codemirror_mode": {
    "name": "ipython",
    "version": 3
   },
   "file_extension": ".py",
   "mimetype": "text/x-python",
   "name": "python",
   "nbconvert_exporter": "python",
   "pygments_lexer": "ipython3",
   "version": "3.6.0"
  }
 },
 "nbformat": 4,
 "nbformat_minor": 2
}
